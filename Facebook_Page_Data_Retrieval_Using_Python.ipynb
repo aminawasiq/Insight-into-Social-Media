{
  "nbformat": 4,
  "nbformat_minor": 0,
  "metadata": {
    "colab": {
      "provenance": []
    },
    "kernelspec": {
      "name": "python3",
      "display_name": "Python 3"
    },
    "language_info": {
      "name": "python"
    }
  },
  "cells": [
    {
      "cell_type": "markdown",
      "source": [
        "## **Facebook Page Data Retrieval Using Python**\n",
        "\n",
        "\n",
        "\n",
        "The provided Python script utilizes the Facebook Graph API to extract and analyze data from a specified Facebook page. The script, written in Python, employs the 'requests' library for handling API requests and 'pandas' for data manipulation. Users need to replace placeholders for the Facebook page ID and access token with their actual values. The code retrieves information such as post ID, message content, creation time, number of likes, comments, and shares. It then calculates the engagement rate for each post by considering the sum of likes, comments, and shares, normalized by the total number of followers. The resulting data is stored in a pandas DataFrame, and both the raw data and calculated engagement rates are displayed. Furthermore, the script exports the data to an Excel file for further analysis or reporting. The inclusion of comments within the code enhances its readability, providing insights into the functionality of each section."
      ],
      "metadata": {
        "id": "S9FMvi02gmp9"
      }
    },
    {
      "cell_type": "code",
      "execution_count": null,
      "metadata": {
        "id": "GH0PtuXxfRxW"
      },
      "outputs": [],
      "source": [
        "import requests\n",
        "import pandas as pd\n",
        "\n",
        "# Replace \"PAGE_ID\" and \"ACCESS_TOKEN\" with your actual Facebook page ID and access token\n",
        "PAGE_ID = \"PAGE_ID\"\n",
        "ACCESS_TOKEN = \"ACCESS_TOKEN\"\n",
        "\n",
        "# Replace total_followers with the actual number of followers of your page\n",
        "total_followers = total_followers\n",
        "\n",
        "# Construct the URL for retrieving posts from the Facebook Graph API\n",
        "url = f\"https://graph.facebook.com/{PAGE_ID}/posts?fields=message,created_time,reactions.summary(true).limit(0),comments.summary(true).limit(0),shares&access_token={ACCESS_TOKEN}\"\n",
        "\n",
        "# List to store the extracted data from posts\n",
        "data = []\n",
        "\n",
        "# Loop to retrieve posts from the Facebook Graph API\n",
        "while url:\n",
        "    response = requests.get(url)\n",
        "\n",
        "    if response.status_code == 200:\n",
        "        posts = response.json()\n",
        "\n",
        "        # Extract relevant information from each post and append it to the data list\n",
        "        for post in posts['data']:\n",
        "            post_data = {\n",
        "                \"Post ID\": post['id'],\n",
        "                \"Message\": post.get('message', 'No message'),\n",
        "                \"Created Time\": post['created_time'],\n",
        "                \"Likes\": post['reactions']['summary']['total_count'] if 'reactions' in post else 0,\n",
        "                \"Comments\": post['comments']['summary']['total_count'] if 'comments' in post else 0,\n",
        "                \"Shares\": post['shares']['count'] if 'shares' in post else 0,\n",
        "            }\n",
        "\n",
        "            data.append(post_data)\n",
        "\n",
        "        # Check if there are more pages of posts\n",
        "        url = posts.get('paging', {}).get('next')\n",
        "    else:\n",
        "        print(f\"Failed to retrieve posts. Status code: {response.status_code}\")\n",
        "        break\n",
        "\n",
        "# Create a DataFrame from the collected data\n",
        "df = pd.DataFrame(data)\n",
        "\n",
        "# Calculate and display the engagement rate for each post\n",
        "df['Engagement Rate'] = ((df['Likes'] + df['Comments'] + df['Shares']) / total_followers) * 100\n",
        "\n",
        "# Write the DataFrame to an Excel file\n",
        "df.to_excel(\"facebook_posts_data_with_engagement.xlsx\", index=False)\n",
        "\n",
        "# Display the DataFrame with the calculated engagement rate\n",
        "print(df[['Post ID', 'Message', 'Created Time', 'Likes', 'Comments', 'Shares', 'Engagement Rate']])\n"
      ]
    }
  ]
}